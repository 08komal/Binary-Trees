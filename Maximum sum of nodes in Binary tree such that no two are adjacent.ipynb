{
 "cells": [
  {
   "cell_type": "code",
   "execution_count": 1,
   "metadata": {},
   "outputs": [],
   "source": [
    "def max_sum(root, dp):#map\n",
    "    if root== None:\n",
    "        return 0\n",
    "    \n",
    "    if dp[root]:\n",
    "        return dp[root]\n",
    "    include= root.data\n",
    "    \n",
    "    if root.left:\n",
    "        include= max_sum(root.left.left)\n",
    "        include= max_sum(root.left.right)\n",
    "        \n",
    "    if root.right:\n",
    "        include= max_sum(root.right.left)\n",
    "        include= max_sum(root.right.right)\n",
    "        \n",
    "    exclude= max_sum(root.left)+max_sum(root.right)\n",
    "    \n",
    "    dp[root]= max(include, exclude)\n",
    "    \n",
    "    return dp[root]"
   ]
  },
  {
   "cell_type": "code",
   "execution_count": null,
   "metadata": {},
   "outputs": [],
   "source": []
  }
 ],
 "metadata": {
  "kernelspec": {
   "display_name": "Python 3",
   "language": "python",
   "name": "python3"
  },
  "language_info": {
   "codemirror_mode": {
    "name": "ipython",
    "version": 3
   },
   "file_extension": ".py",
   "mimetype": "text/x-python",
   "name": "python",
   "nbconvert_exporter": "python",
   "pygments_lexer": "ipython3",
   "version": "3.8.3"
  }
 },
 "nbformat": 4,
 "nbformat_minor": 4
}
