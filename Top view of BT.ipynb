{
 "cells": [
  {
   "cell_type": "code",
   "execution_count": 1,
   "metadata": {},
   "outputs": [
    {
     "ename": "IndentationError",
     "evalue": "unexpected indent (<ipython-input-1-ebf10305fde9>, line 4)",
     "output_type": "error",
     "traceback": [
      "\u001b[1;36m  File \u001b[1;32m\"<ipython-input-1-ebf10305fde9>\"\u001b[1;36m, line \u001b[1;32m4\u001b[0m\n\u001b[1;33m    for i in range(n + 1):\u001b[0m\n\u001b[1;37m    ^\u001b[0m\n\u001b[1;31mIndentationError\u001b[0m\u001b[1;31m:\u001b[0m unexpected indent\n"
     ]
    }
   ],
   "source": [
    "class Solution:\n",
    "    \n",
    "    #Function to return a list of nodes visible from the top view \n",
    "    #from left to right in Binary Tree.\n",
    "    def __init__(self, key):\n",
    "        self.data = key\n",
    "        self.left = None\n",
    "        self.right = None\n",
    "        self.hd = 0\n",
    "    \n",
    "    def topView(self,root):\n",
    "        q=[]\n",
    "        m= dict()\n",
    "        hd= 0\n",
    "        root.hd= hd #horizontal distance\n",
    "        #append root, horizontal distance\n",
    "        q.append(root)\n",
    "        \n",
    "        while len(q):\n",
    "            root= q[0]\n",
    "            hd=root.hd\n",
    "            \n",
    "            if hd not in m:\n",
    "                m[hd]=root.data\n",
    "            if(root.left):\n",
    "                root.left.hd = hd - 1\n",
    "                q.append(root.left)\n",
    " \n",
    "            if(root.right):\n",
    "                root.right.hd = hd + 1\n",
    "                q.append(root.right)\n",
    " \n",
    "            q.pop(0)\n",
    "        for i in sorted(m):\n",
    "            print(m[i], end=\"\")\n"
   ]
  },
  {
   "cell_type": "code",
   "execution_count": null,
   "metadata": {},
   "outputs": [],
   "source": []
  }
 ],
 "metadata": {
  "kernelspec": {
   "display_name": "Python 3",
   "language": "python",
   "name": "python3"
  },
  "language_info": {
   "codemirror_mode": {
    "name": "ipython",
    "version": 3
   },
   "file_extension": ".py",
   "mimetype": "text/x-python",
   "name": "python",
   "nbconvert_exporter": "python",
   "pygments_lexer": "ipython3",
   "version": "3.8.3"
  }
 },
 "nbformat": 4,
 "nbformat_minor": 4
}
