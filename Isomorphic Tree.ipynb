{
 "cells": [
  {
   "cell_type": "code",
   "execution_count": 1,
   "metadata": {},
   "outputs": [
    {
     "ename": "IndentationError",
     "evalue": "unexpected indent (<ipython-input-1-ebf10305fde9>, line 4)",
     "output_type": "error",
     "traceback": [
      "\u001b[1;36m  File \u001b[1;32m\"<ipython-input-1-ebf10305fde9>\"\u001b[1;36m, line \u001b[1;32m4\u001b[0m\n\u001b[1;33m    for i in range(n + 1):\u001b[0m\n\u001b[1;37m    ^\u001b[0m\n\u001b[1;31mIndentationError\u001b[0m\u001b[1;31m:\u001b[0m unexpected indent\n"
     ]
    }
   ],
   "source": [
    "class Solution:\n",
    "    # Return True if the given trees are isomotphic. Else return False.\n",
    "    def isIsomorphic(self, n1, n2): \n",
    "        #code here.\n",
    "        if n1 is None and n2 is None:\n",
    "            return True\n",
    "  \n",
    "    # Exactly one of the n1 and n2 is None, trees are not\n",
    "    # isomorphic\n",
    "        if n1 is None or n2 is None:\n",
    "            return False\n",
    "  \n",
    "        if n1.data != n2.data :\n",
    "            return False\n",
    "    # There are two possible cases for n1 and n2 to be isomorphic\n",
    "    # Case 1: The subtrees rooted at these nodes have NOT\n",
    "    # been \"Flipped\".\n",
    "    # Both of these subtrees have to be isomorphic, hence the &&\n",
    "    # Case 2: The subtrees rooted at these nodes have\n",
    "    # been \"Flipped\"\n",
    "        return ((self.isIsomorphic(n1.left, n2.left)and self.isIsomorphic(n1.right, n2.right)) or(self.isIsomorphic(n1.left, n2.right) and self.isIsomorphic(n1.right, n2.left)))\n"
   ]
  },
  {
   "cell_type": "code",
   "execution_count": null,
   "metadata": {},
   "outputs": [],
   "source": []
  }
 ],
 "metadata": {
  "kernelspec": {
   "display_name": "Python 3",
   "language": "python",
   "name": "python3"
  },
  "language_info": {
   "codemirror_mode": {
    "name": "ipython",
    "version": 3
   },
   "file_extension": ".py",
   "mimetype": "text/x-python",
   "name": "python",
   "nbconvert_exporter": "python",
   "pygments_lexer": "ipython3",
   "version": "3.8.3"
  }
 },
 "nbformat": 4,
 "nbformat_minor": 4
}
