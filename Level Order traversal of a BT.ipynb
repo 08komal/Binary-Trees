{
 "cells": [
  {
   "cell_type": "code",
   "execution_count": 1,
   "metadata": {},
   "outputs": [
    {
     "ename": "IndentationError",
     "evalue": "unexpected indent (<ipython-input-1-ebf10305fde9>, line 4)",
     "output_type": "error",
     "traceback": [
      "\u001b[1;36m  File \u001b[1;32m\"<ipython-input-1-ebf10305fde9>\"\u001b[1;36m, line \u001b[1;32m4\u001b[0m\n\u001b[1;33m    for i in range(n + 1):\u001b[0m\n\u001b[1;37m    ^\u001b[0m\n\u001b[1;31mIndentationError\u001b[0m\u001b[1;31m:\u001b[0m unexpected indent\n"
     ]
    }
   ],
   "source": [
    "    def levelOrder(self, root: TreeNode) -> List[List[int]]:\n",
    "        res=[]\n",
    "        if not root:\n",
    "            return \n",
    "        queue = []\n",
    "        queue.append(root)\n",
    " \n",
    "        while(len(queue) > 0):\n",
    "       \n",
    "        # Print front of queue and\n",
    "        # remove it from queue\n",
    "            res.append(queue[0])\n",
    "            node = queue.pop(0)\n",
    " \n",
    "        #Enqueue left child\n",
    "            if node.left is not None:\n",
    "                queue.append(node.left)\n",
    " \n",
    "        # Enqueue right child\n",
    "            if node.right is not None:\n",
    "                queue.append(node.right)\n",
    "        return res"
   ]
  },
  {
   "cell_type": "code",
   "execution_count": null,
   "metadata": {},
   "outputs": [],
   "source": []
  }
 ],
 "metadata": {
  "kernelspec": {
   "display_name": "Python 3",
   "language": "python",
   "name": "python3"
  },
  "language_info": {
   "codemirror_mode": {
    "name": "ipython",
    "version": 3
   },
   "file_extension": ".py",
   "mimetype": "text/x-python",
   "name": "python",
   "nbconvert_exporter": "python",
   "pygments_lexer": "ipython3",
   "version": "3.8.3"
  }
 },
 "nbformat": 4,
 "nbformat_minor": 4
}
