{
 "cells": [
  {
   "cell_type": "code",
   "execution_count": 1,
   "metadata": {},
   "outputs": [],
   "source": [
    "def print_path(path, i):\n",
    "    for j in (i, len(path)):\n",
    "        print(path[i], end='')\n",
    "    print()\n",
    "\n",
    "def kpathSum(root, path, k):\n",
    "    \n",
    "    if root == None:\n",
    "        return 0\n",
    "    path.append(root)\n",
    "    \n",
    "    kpathSum(root.left, path, k)\n",
    "    kpathSum(root.right, path, k)\n",
    "    \n",
    "    f= 0\n",
    "    \n",
    "    for i in range (path, -1, -1):\n",
    "        f+= path[j]\n",
    "        \n",
    "        if f==k:\n",
    "            print_path(path, j)\n",
    "    path.pop(-1)"
   ]
  },
  {
   "cell_type": "code",
   "execution_count": null,
   "metadata": {},
   "outputs": [],
   "source": []
  }
 ],
 "metadata": {
  "kernelspec": {
   "display_name": "Python 3",
   "language": "python",
   "name": "python3"
  },
  "language_info": {
   "codemirror_mode": {
    "name": "ipython",
    "version": 3
   },
   "file_extension": ".py",
   "mimetype": "text/x-python",
   "name": "python",
   "nbconvert_exporter": "python",
   "pygments_lexer": "ipython3",
   "version": "3.8.3"
  }
 },
 "nbformat": 4,
 "nbformat_minor": 4
}
