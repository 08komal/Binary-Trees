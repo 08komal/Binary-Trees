{
 "cells": [
  {
   "cell_type": "code",
   "execution_count": 1,
   "metadata": {},
   "outputs": [
    {
     "ename": "IndentationError",
     "evalue": "unexpected indent (<ipython-input-1-ebf10305fde9>, line 4)",
     "output_type": "error",
     "traceback": [
      "\u001b[1;36m  File \u001b[1;32m\"<ipython-input-1-ebf10305fde9>\"\u001b[1;36m, line \u001b[1;32m4\u001b[0m\n\u001b[1;33m    for i in range(n + 1):\u001b[0m\n\u001b[1;37m    ^\u001b[0m\n\u001b[1;31mIndentationError\u001b[0m\u001b[1;31m:\u001b[0m unexpected indent\n"
     ]
    }
   ],
   "source": [
    "    def levelOrderBottom(self, root: TreeNode) -> List[List[int]]:\n",
    "        if not root:\n",
    "            return \n",
    "        else:    \n",
    "            q = []\n",
    "            res=[]\n",
    "            q.append(root)\n",
    "            while len(q)>0:\n",
    "                hold=[]\n",
    "                for i in range(len(q)):\n",
    "                    temp  = q.pop(0)\n",
    "                    hold.append(temp.val)\n",
    "                    if temp.left:\n",
    "                        q.append(temp.left)\n",
    "                    if temp.right:\n",
    "                        q.append(temp.right)\n",
    "                res.append(hold)\n",
    "        return res[::-1]\n"
   ]
  },
  {
   "cell_type": "code",
   "execution_count": null,
   "metadata": {},
   "outputs": [],
   "source": []
  }
 ],
 "metadata": {
  "kernelspec": {
   "display_name": "Python 3",
   "language": "python",
   "name": "python3"
  },
  "language_info": {
   "codemirror_mode": {
    "name": "ipython",
    "version": 3
   },
   "file_extension": ".py",
   "mimetype": "text/x-python",
   "name": "python",
   "nbconvert_exporter": "python",
   "pygments_lexer": "ipython3",
   "version": "3.8.3"
  }
 },
 "nbformat": 4,
 "nbformat_minor": 4
}
