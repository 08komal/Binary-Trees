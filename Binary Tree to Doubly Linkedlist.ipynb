{
 "cells": [
  {
   "cell_type": "code",
   "execution_count": 1,
   "metadata": {},
   "outputs": [
    {
     "ename": "IndentationError",
     "evalue": "unexpected indent (<ipython-input-1-ebf10305fde9>, line 4)",
     "output_type": "error",
     "traceback": [
      "\u001b[1;36m  File \u001b[1;32m\"<ipython-input-1-ebf10305fde9>\"\u001b[1;36m, line \u001b[1;32m4\u001b[0m\n\u001b[1;33m    for i in range(n + 1):\u001b[0m\n\u001b[1;37m    ^\u001b[0m\n\u001b[1;31mIndentationError\u001b[0m\u001b[1;31m:\u001b[0m unexpected indent\n"
     ]
    }
   ],
   "source": [
    "class Node:\n",
    "    def __init__(self, val):\n",
    "        self.right = None\n",
    "        self.data = val\n",
    "        self.left = None\n",
    " \n",
    " \n",
    "class BtoDll:\n",
    "    def __init__(self):\n",
    "        self.head = None\n",
    "        self.tail = None\n",
    " \n",
    "    def convert(self, root):\n",
    "       \n",
    "        # Base case\n",
    "        if root is None:\n",
    "            return\n",
    "           \n",
    "        # Recursively convert left subtree\n",
    "        self.convert(root.left)\n",
    "         \n",
    "        # Now convert this node\n",
    "        node = root\n",
    "        if self.head is None:\n",
    "            self.head = node\n",
    "        else:\n",
    "            self.tail.right = node\n",
    "            node.left = self.tail\n",
    "        self.tail = node\n",
    "         \n",
    "        # Finally convert right subtree\n",
    "        self.convert(root.right)\n",
    "        return self.head\n",
    " \n",
    " \n",
    "def BinaryTree2DoubleLinkedList(root):\n",
    "    converter = BtoDll()\n",
    "    return converter.convert(root)\n",
    " \n",
    " \n",
    "def print_dll(head):\n",
    "    while head is not None:\n",
    "        print(head.data, end=\" \")\n",
    "        head = head.right\n"
   ]
  },
  {
   "cell_type": "code",
   "execution_count": null,
   "metadata": {},
   "outputs": [],
   "source": []
  }
 ],
 "metadata": {
  "kernelspec": {
   "display_name": "Python 3",
   "language": "python",
   "name": "python3"
  },
  "language_info": {
   "codemirror_mode": {
    "name": "ipython",
    "version": 3
   },
   "file_extension": ".py",
   "mimetype": "text/x-python",
   "name": "python",
   "nbconvert_exporter": "python",
   "pygments_lexer": "ipython3",
   "version": "3.8.3"
  }
 },
 "nbformat": 4,
 "nbformat_minor": 4
}
