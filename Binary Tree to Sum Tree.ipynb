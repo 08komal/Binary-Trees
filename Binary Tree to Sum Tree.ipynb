{
 "cells": [
  {
   "cell_type": "code",
   "execution_count": 1,
   "metadata": {},
   "outputs": [
    {
     "ename": "IndentationError",
     "evalue": "unexpected indent (<ipython-input-1-ebf10305fde9>, line 4)",
     "output_type": "error",
     "traceback": [
      "\u001b[1;36m  File \u001b[1;32m\"<ipython-input-1-ebf10305fde9>\"\u001b[1;36m, line \u001b[1;32m4\u001b[0m\n\u001b[1;33m    for i in range(n + 1):\u001b[0m\n\u001b[1;37m    ^\u001b[0m\n\u001b[1;31mIndentationError\u001b[0m\u001b[1;31m:\u001b[0m unexpected indent\n"
     ]
    }
   ],
   "source": [
    "    def toSumTree(self, root) :\n",
    "        #code here\n",
    "        if(root == None) :\n",
    "            return 0\n",
    "  \n",
    "    # Store the old value \n",
    "        old_val = root.data \n",
    "  \n",
    "    # Recursively call for left and \n",
    "    # right subtrees and store the sum as \n",
    "    # new value of this node \n",
    "        root.data = self.toSumTree(root.left) + self.toSumTree(root.right) \n",
    "  \n",
    "    # Return the sum of values of nodes \n",
    "    # in left and right subtrees and \n",
    "    # old_value of this node \n",
    "        return root.data + old_val \n"
   ]
  },
  {
   "cell_type": "code",
   "execution_count": null,
   "metadata": {},
   "outputs": [],
   "source": []
  }
 ],
 "metadata": {
  "kernelspec": {
   "display_name": "Python 3",
   "language": "python",
   "name": "python3"
  },
  "language_info": {
   "codemirror_mode": {
    "name": "ipython",
    "version": 3
   },
   "file_extension": ".py",
   "mimetype": "text/x-python",
   "name": "python",
   "nbconvert_exporter": "python",
   "pygments_lexer": "ipython3",
   "version": "3.8.3"
  }
 },
 "nbformat": 4,
 "nbformat_minor": 4
}
