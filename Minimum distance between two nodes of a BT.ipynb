{
 "cells": [
  {
   "cell_type": "code",
   "execution_count": 1,
   "metadata": {},
   "outputs": [
    {
     "ename": "IndentationError",
     "evalue": "unexpected indent (<ipython-input-1-ebf10305fde9>, line 4)",
     "output_type": "error",
     "traceback": [
      "\u001b[1;36m  File \u001b[1;32m\"<ipython-input-1-ebf10305fde9>\"\u001b[1;36m, line \u001b[1;32m4\u001b[0m\n\u001b[1;33m    for i in range(n + 1):\u001b[0m\n\u001b[1;37m    ^\u001b[0m\n\u001b[1;31mIndentationError\u001b[0m\u001b[1;31m:\u001b[0m unexpected indent\n"
     ]
    }
   ],
   "source": [
    "def lca(root, n1, n2):\n",
    "        # Code here\n",
    "        if not root:\n",
    "            return None\n",
    "        if root.data==n1 or root.data==n2:\n",
    "            return root\n",
    "        \n",
    "        l= lca(root.left, n1, n2)\n",
    "        r= lca(root.right, n1, n2)\n",
    "        \n",
    "        if l and r:\n",
    "            return root\n",
    "        if l:\n",
    "            return l\n",
    "        else:\n",
    "            return r\n",
    "            \n",
    "def solve(root, val):\n",
    "        if not root:\n",
    "            return 0\n",
    "        if root.data== val:\n",
    "            return 1\n",
    "        a= solve(root.left, val)\n",
    "        b= solve(root.right, val)\n",
    "        if not a and not b:\n",
    "            return 0\n",
    "        else:\n",
    "            return a + b + 1\n",
    "\n",
    "def findDist(root,a,b):\n",
    "    LCA= lca(root, a, b)\n",
    "    x= solve(LCA, a)\n",
    "    y= solve(LCA, b)\n",
    "    return x+ y - 2"
   ]
  },
  {
   "cell_type": "code",
   "execution_count": null,
   "metadata": {},
   "outputs": [],
   "source": []
  }
 ],
 "metadata": {
  "kernelspec": {
   "display_name": "Python 3",
   "language": "python",
   "name": "python3"
  },
  "language_info": {
   "codemirror_mode": {
    "name": "ipython",
    "version": 3
   },
   "file_extension": ".py",
   "mimetype": "text/x-python",
   "name": "python",
   "nbconvert_exporter": "python",
   "pygments_lexer": "ipython3",
   "version": "3.8.3"
  }
 },
 "nbformat": 4,
 "nbformat_minor": 4
}
