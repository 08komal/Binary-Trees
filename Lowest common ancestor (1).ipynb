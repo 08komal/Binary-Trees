{
 "cells": [
  {
   "cell_type": "code",
   "execution_count": 1,
   "metadata": {},
   "outputs": [],
   "source": [
    "class Solution:\n",
    "    #Function to return the lowest common ancestor in a Binary Tree.\n",
    "    def lca(self,root, n1, n2):\n",
    "        # Code here\n",
    "        if not root:\n",
    "            return None\n",
    "        if root.data==n1 or root.data==n2:\n",
    "            return root\n",
    "        \n",
    "        l= self.lca(root.left, n1, n2)\n",
    "        r= self.lca(root.right, n1, n2)\n",
    "        \n",
    "        if l and r:\n",
    "            return root\n",
    "        if l:\n",
    "            return l\n",
    "        else:\n",
    "            return r\n"
   ]
  },
  {
   "cell_type": "code",
   "execution_count": null,
   "metadata": {},
   "outputs": [],
   "source": []
  }
 ],
 "metadata": {
  "kernelspec": {
   "display_name": "Python 3",
   "language": "python",
   "name": "python3"
  },
  "language_info": {
   "codemirror_mode": {
    "name": "ipython",
    "version": 3
   },
   "file_extension": ".py",
   "mimetype": "text/x-python",
   "name": "python",
   "nbconvert_exporter": "python",
   "pygments_lexer": "ipython3",
   "version": "3.8.3"
  }
 },
 "nbformat": 4,
 "nbformat_minor": 4
}
