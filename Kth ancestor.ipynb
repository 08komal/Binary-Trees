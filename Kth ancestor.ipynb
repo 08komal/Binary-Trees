{
 "cells": [
  {
   "cell_type": "code",
   "execution_count": 1,
   "metadata": {},
   "outputs": [],
   "source": [
    "def kth(root, target, k):\n",
    "    if root is None:\n",
    "        return 0\n",
    "    if root.data== target or kth(root.left, k) or kth(root.right, k):\n",
    "        if k>0:\n",
    "            k-=1\n",
    "        elif k==0:\n",
    "            print(root.data)\n",
    "            return None\n",
    "        return root\n",
    "    \n",
    "    \n",
    "    "
   ]
  },
  {
   "cell_type": "code",
   "execution_count": null,
   "metadata": {},
   "outputs": [],
   "source": []
  }
 ],
 "metadata": {
  "kernelspec": {
   "display_name": "Python 3",
   "language": "python",
   "name": "python3"
  },
  "language_info": {
   "codemirror_mode": {
    "name": "ipython",
    "version": 3
   },
   "file_extension": ".py",
   "mimetype": "text/x-python",
   "name": "python",
   "nbconvert_exporter": "python",
   "pygments_lexer": "ipython3",
   "version": "3.8.3"
  }
 },
 "nbformat": 4,
 "nbformat_minor": 4
}
